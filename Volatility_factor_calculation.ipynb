{
 "cells": [
  {
   "cell_type": "code",
   "execution_count": 1,
   "id": "7139536c",
   "metadata": {},
   "outputs": [],
   "source": [
    "import pandas as pd\n",
    "import datetime as dt\n",
    "from datetime import datetime\n",
    "from datetime import timedelta\n",
    "import numpy as np\n",
    "from scipy import stats"
   ]
  },
  {
   "cell_type": "code",
   "execution_count": 2,
   "id": "b57bffd9",
   "metadata": {},
   "outputs": [
    {
     "name": "stderr",
     "output_type": "stream",
     "text": [
      "C:\\Users\\HP\\AppData\\Local\\Temp\\ipykernel_39756\\71662434.py:11: SettingWithCopyWarning: \n",
      "A value is trying to be set on a copy of a slice from a DataFrame\n",
      "\n",
      "See the caveats in the documentation: https://pandas.pydata.org/pandas-docs/stable/user_guide/indexing.html#returning-a-view-versus-a-copy\n",
      "  df3.rename(columns={'Unnamed: 0':'Date'},inplace=True)\n"
     ]
    }
   ],
   "source": [
    "# load large cap stocks price data and benchmark index data\n",
    "p_df = pd.read_excel('price_data.xlsx')\n",
    "df = p_df.copy()\n",
    "df.reset_index(inplace=True)\n",
    "df1 = df.T\n",
    "df2 = df1.iloc[1:,:]\n",
    "df2.reset_index(inplace=True)\n",
    "cols = df2.iloc[0,:]\n",
    "df2.columns = cols\n",
    "df3 = df2.iloc[1:,:]\n",
    "df3.rename(columns={'Unnamed: 0':'Date'},inplace=True)\n",
    "df3.set_index(pd.to_datetime(df3.Date),inplace=True)\n",
    "\n",
    "del df3['Date']\n",
    "df3.reset_index(inplace=True)\n",
    "pricedf = df3.copy()"
   ]
  },
  {
   "cell_type": "code",
   "execution_count": 3,
   "id": "9592f328",
   "metadata": {},
   "outputs": [],
   "source": [
    "quarter_df =  pd.read_excel(\"quarterly_periods.xlsx\")\n",
    "value_reader = pd.ExcelFile('nse300_stocks.xlsx')"
   ]
  },
  {
   "cell_type": "code",
   "execution_count": null,
   "id": "a20234e5",
   "metadata": {},
   "outputs": [],
   "source": []
  },
  {
   "cell_type": "code",
   "execution_count": 4,
   "id": "eaa32753",
   "metadata": {},
   "outputs": [],
   "source": [
    "def get_volatility(tmpdf):\n",
    "    volatility = ((tmpdf.pct_change().std()) * np.sqrt(252))*100\n",
    "    return np.round(volatility,2)"
   ]
  },
  {
   "cell_type": "code",
   "execution_count": 5,
   "id": "c45ff642",
   "metadata": {},
   "outputs": [],
   "source": [
    "def get_beta(tmpdf,ticker):\n",
    "    tmpdf = tmpdf.reset_index()\n",
    "    tmpdf.rename(columns={'date':'Date'},inplace=True)\n",
    "    benchmark = pd.read_csv('BSE100.csv',index_col=False)\n",
    "    \n",
    "    benchmark['Date'] = pd.to_datetime(benchmark['Date'])\n",
    "    benchmark = benchmark[['Date','Close']]\n",
    "    \n",
    "    merged_df = pd.merge(benchmark,tmpdf,on='Date')\n",
    "    x = merged_df[ticker].pct_change()\n",
    "    y = merged_df['Close'].pct_change()\n",
    "\n",
    "    x.dropna(inplace=True)\n",
    "    y.dropna(inplace=True)\n",
    "    regress_coefs = stats.linregress(x,y)\n",
    "    return round(regress_coefs.slope,2)\n"
   ]
  },
  {
   "cell_type": "code",
   "execution_count": 6,
   "id": "89bd7452",
   "metadata": {},
   "outputs": [],
   "source": [
    "def get_cumulative_range(tmpdf):\n",
    "    max_price = tmpdf.max()\n",
    "    min_price = tmpdf.min()\n",
    "    cum_range = max_price/min_price\n",
    "    return np.round(cum_range,2)\n",
    "    "
   ]
  },
  {
   "cell_type": "code",
   "execution_count": 7,
   "id": "69d78b79",
   "metadata": {},
   "outputs": [],
   "source": [
    "def calc_zscore(bpdf):\n",
    "    zscore_list=[]\n",
    "    for factor in vol_factor_weights_dict.keys():\n",
    "        bpdf[f'{factor}_mean'] = bpdf[factor].mean()\n",
    "        bpdf[f'{factor}_std'] = bpdf[factor].std()\n",
    "        bpdf[f'{factor}_zscore'] = ((bpdf[factor]-bpdf[f'{factor}_mean'])/bpdf[f'{factor}_std']) * vol_factor_weights_dict[factor]\n",
    "        zscore_list.append(f'{factor}_zscore')\n",
    "    bpdf['z_score_avg'] = bpdf[zscore_list].sum(axis=1) /len(zscore_list)\n",
    "    bpdf['vol_score'] = np.where((bpdf.z_score_avg>0), (1+bpdf.z_score_avg), (1/(1-bpdf.z_score_avg)))\n",
    "    return bpdf.copy()"
   ]
  },
  {
   "cell_type": "code",
   "execution_count": 8,
   "id": "e89b657a",
   "metadata": {},
   "outputs": [
    {
     "name": "stdout",
     "output_type": "stream",
     "text": [
      "1/4/2022 - 30/6/2022 Q12022\n",
      "2022-04-01 00:00:00 2022-06-30 00:00:00\n",
      "2021-06-30 00:00:00 2022-06-30 00:00:00\n",
      "1/7/2022 - 30/9/2022 Q22022\n",
      "2022-07-01 00:00:00 2022-09-30 00:00:00\n",
      "2021-09-30 00:00:00 2022-09-30 00:00:00\n",
      "3/10/2022 - 30/12/2022 Q32022\n",
      "2022-10-03 00:00:00 2022-12-30 00:00:00\n",
      "2021-12-30 00:00:00 2022-12-30 00:00:00\n",
      "2/1/2023 - 31/3/2023 Q42022\n",
      "2023-01-02 00:00:00 2023-03-31 00:00:00\n",
      "2022-03-31 00:00:00 2023-03-31 00:00:00\n"
     ]
    },
    {
     "name": "stderr",
     "output_type": "stream",
     "text": [
      "C:\\Users\\HP\\AppData\\Local\\Temp\\ipykernel_39756\\854839179.py:58: FutureWarning: save is not part of the public API, usage can give unexpected results and will be removed in a future version\n",
      "  writer.save()\n"
     ]
    }
   ],
   "source": [
    "vol_factor_weights_dict = {'volatility':0.38, 'capm_beta':0.27, 'cumulative_range':0.35}\n",
    "writer = pd.ExcelWriter('volatility_factor_rank_nse300.xlsx')\n",
    "#isin = pd.read_excel('largecap_isin.xlsx')\n",
    "for rowidx, rowval in quarter_df.iterrows():\n",
    "    date_range= rowval.Date\n",
    "    quarter = rowval.quarters\n",
    "    if(quarter=='Q12023'):\n",
    "        break\n",
    "    \n",
    "    print(date_range, quarter)\n",
    "    start_date = datetime.strptime(date_range.split(\" - \")[0],\"%d/%m/%Y\")\n",
    "    end_date = datetime.strptime(date_range.split(\" - \")[1],\"%d/%m/%Y\")\n",
    "    print(start_date, end_date)\n",
    "    year_end_date = end_date # - timedelta(days=365)\n",
    "    year_start_date = year_end_date -timedelta(days=365)\n",
    "    print(year_start_date,year_end_date)\n",
    "    quarter1 = f\"{end_date.strftime('%Y%m')}\"\n",
    "    valuedf = pd.read_excel(value_reader, sheet_name=(quarter1))\n",
    "\n",
    "    \n",
    "    stock_list = valuedf.iloc[:,0].values\n",
    "    #stock_list = pd.Series(stock_list)\n",
    "    stock_lst = []\n",
    "    for stock in stock_list:\n",
    "        if(stock in pricedf.columns):\n",
    "            stock_lst.append(stock)\n",
    "\n",
    "    \n",
    "    price_df = pricedf[pricedf['Date'].between(year_start_date, year_end_date)].reset_index(drop=True).sort_values('Date').set_index('Date')[stock_lst]\n",
    "\n",
    "    price_df = price_df.T.drop_duplicates(keep='first').T\n",
    "    \n",
    "    row_lst = []\n",
    "    for ticker in price_df.columns:\n",
    "        tmpdf = price_df[ticker].dropna()[1:]\n",
    "        if len(tmpdf>60):\n",
    "            \n",
    "            row_lst.append([ticker,get_volatility(tmpdf),get_beta(tmpdf,ticker),get_cumulative_range(tmpdf)])\n",
    "    \n",
    "    \n",
    "    returns_df = pd.DataFrame(row_lst,columns=['Ticker','volatility','capm_beta','cumulative_range'])\n",
    "    #returns_df.columns = returns_df.iloc[0]\n",
    "    #returns_df.drop(0,inplace=True)\n",
    "    rank_df = calc_zscore(returns_df)\n",
    "    \n",
    "    rank_df.sort_values('vol_score', inplace=True)\n",
    "    rank_df.reset_index(drop=True,inplace=True)\n",
    "    rank_df['rank'] = np.arange(1,len(returns_df)+1)\n",
    "    \n",
    "    rank_df.to_excel(writer, sheet_name=quarter1, index=False)\n",
    "    \n",
    "writer.save()"
   ]
  },
  {
   "cell_type": "code",
   "execution_count": null,
   "id": "4cf57c36",
   "metadata": {},
   "outputs": [],
   "source": []
  }
 ],
 "metadata": {
  "kernelspec": {
   "display_name": "Python 3 (ipykernel)",
   "language": "python",
   "name": "python3"
  },
  "language_info": {
   "codemirror_mode": {
    "name": "ipython",
    "version": 3
   },
   "file_extension": ".py",
   "mimetype": "text/x-python",
   "name": "python",
   "nbconvert_exporter": "python",
   "pygments_lexer": "ipython3",
   "version": "3.9.19"
  }
 },
 "nbformat": 4,
 "nbformat_minor": 5
}
